{
 "cells": [
  {
   "cell_type": "code",
   "execution_count": 3,
   "metadata": {},
   "outputs": [],
   "source": [
    "import pandas as pd\n",
    "import numpy as np\n",
    "import keras\n",
    "from keras.models import Sequential\n",
    "from keras.layers import Dense\n",
    "from sklearn.model_selection import train_test_split\n",
    "from sklearn.metrics import mean_squared_error\n",
    "from keras.utils import np_utils\n",
    "from keras.models import Model\n",
    "from keras.layers import Dense, Dropout, Activation, Flatten  \n",
    "from keras.layers import Conv2D, MaxPooling2D, BatchNormalization,AveragePooling2D\n",
    "from keras.layers import Input, Dense, Activation, ZeroPadding2D, BatchNormalization, Flatten, Conv2D\n",
    "from keras.losses import categorical_crossentropy  \n",
    "from keras.optimizers import Adam  \n",
    "from keras.regularizers import l2 "
   ]
  },
  {
   "cell_type": "code",
   "execution_count": 4,
   "metadata": {},
   "outputs": [],
   "source": [
    "df=pd.read_csv('fer2013.csv')"
   ]
  },
  {
   "cell_type": "code",
   "execution_count": 5,
   "metadata": {
    "scrolled": true
   },
   "outputs": [
    {
     "data": {
      "text/html": [
       "<div>\n",
       "<style scoped>\n",
       "    .dataframe tbody tr th:only-of-type {\n",
       "        vertical-align: middle;\n",
       "    }\n",
       "\n",
       "    .dataframe tbody tr th {\n",
       "        vertical-align: top;\n",
       "    }\n",
       "\n",
       "    .dataframe thead th {\n",
       "        text-align: right;\n",
       "    }\n",
       "</style>\n",
       "<table border=\"1\" class=\"dataframe\">\n",
       "  <thead>\n",
       "    <tr style=\"text-align: right;\">\n",
       "      <th></th>\n",
       "      <th>emotion</th>\n",
       "      <th>pixels</th>\n",
       "      <th>Usage</th>\n",
       "    </tr>\n",
       "  </thead>\n",
       "  <tbody>\n",
       "    <tr>\n",
       "      <td>0</td>\n",
       "      <td>0</td>\n",
       "      <td>70 80 82 72 58 58 60 63 54 58 60 48 89 115 121...</td>\n",
       "      <td>Training</td>\n",
       "    </tr>\n",
       "    <tr>\n",
       "      <td>1</td>\n",
       "      <td>0</td>\n",
       "      <td>151 150 147 155 148 133 111 140 170 174 182 15...</td>\n",
       "      <td>Training</td>\n",
       "    </tr>\n",
       "    <tr>\n",
       "      <td>2</td>\n",
       "      <td>2</td>\n",
       "      <td>231 212 156 164 174 138 161 173 182 200 106 38...</td>\n",
       "      <td>Training</td>\n",
       "    </tr>\n",
       "    <tr>\n",
       "      <td>3</td>\n",
       "      <td>4</td>\n",
       "      <td>24 32 36 30 32 23 19 20 30 41 21 22 32 34 21 1...</td>\n",
       "      <td>Training</td>\n",
       "    </tr>\n",
       "    <tr>\n",
       "      <td>4</td>\n",
       "      <td>6</td>\n",
       "      <td>4 0 0 0 0 0 0 0 0 0 0 0 3 15 23 28 48 50 58 84...</td>\n",
       "      <td>Training</td>\n",
       "    </tr>\n",
       "    <tr>\n",
       "      <td>...</td>\n",
       "      <td>...</td>\n",
       "      <td>...</td>\n",
       "      <td>...</td>\n",
       "    </tr>\n",
       "    <tr>\n",
       "      <td>35882</td>\n",
       "      <td>6</td>\n",
       "      <td>50 36 17 22 23 29 33 39 34 37 37 37 39 43 48 5...</td>\n",
       "      <td>PrivateTest</td>\n",
       "    </tr>\n",
       "    <tr>\n",
       "      <td>35883</td>\n",
       "      <td>3</td>\n",
       "      <td>178 174 172 173 181 188 191 194 196 199 200 20...</td>\n",
       "      <td>PrivateTest</td>\n",
       "    </tr>\n",
       "    <tr>\n",
       "      <td>35884</td>\n",
       "      <td>0</td>\n",
       "      <td>17 17 16 23 28 22 19 17 25 26 20 24 31 19 27 9...</td>\n",
       "      <td>PrivateTest</td>\n",
       "    </tr>\n",
       "    <tr>\n",
       "      <td>35885</td>\n",
       "      <td>3</td>\n",
       "      <td>30 28 28 29 31 30 42 68 79 81 77 67 67 71 63 6...</td>\n",
       "      <td>PrivateTest</td>\n",
       "    </tr>\n",
       "    <tr>\n",
       "      <td>35886</td>\n",
       "      <td>2</td>\n",
       "      <td>19 13 14 12 13 16 21 33 50 57 71 84 97 108 122...</td>\n",
       "      <td>PrivateTest</td>\n",
       "    </tr>\n",
       "  </tbody>\n",
       "</table>\n",
       "<p>35887 rows × 3 columns</p>\n",
       "</div>"
      ],
      "text/plain": [
       "       emotion                                             pixels        Usage\n",
       "0            0  70 80 82 72 58 58 60 63 54 58 60 48 89 115 121...     Training\n",
       "1            0  151 150 147 155 148 133 111 140 170 174 182 15...     Training\n",
       "2            2  231 212 156 164 174 138 161 173 182 200 106 38...     Training\n",
       "3            4  24 32 36 30 32 23 19 20 30 41 21 22 32 34 21 1...     Training\n",
       "4            6  4 0 0 0 0 0 0 0 0 0 0 0 3 15 23 28 48 50 58 84...     Training\n",
       "...        ...                                                ...          ...\n",
       "35882        6  50 36 17 22 23 29 33 39 34 37 37 37 39 43 48 5...  PrivateTest\n",
       "35883        3  178 174 172 173 181 188 191 194 196 199 200 20...  PrivateTest\n",
       "35884        0  17 17 16 23 28 22 19 17 25 26 20 24 31 19 27 9...  PrivateTest\n",
       "35885        3  30 28 28 29 31 30 42 68 79 81 77 67 67 71 63 6...  PrivateTest\n",
       "35886        2  19 13 14 12 13 16 21 33 50 57 71 84 97 108 122...  PrivateTest\n",
       "\n",
       "[35887 rows x 3 columns]"
      ]
     },
     "execution_count": 5,
     "metadata": {},
     "output_type": "execute_result"
    }
   ],
   "source": [
    "df"
   ]
  },
  {
   "cell_type": "code",
   "execution_count": 6,
   "metadata": {
    "scrolled": true
   },
   "outputs": [
    {
     "data": {
      "text/plain": [
       "emotion     int64\n",
       "pixels     object\n",
       "Usage      object\n",
       "dtype: object"
      ]
     },
     "execution_count": 6,
     "metadata": {},
     "output_type": "execute_result"
    }
   ],
   "source": [
    "df.dtypes"
   ]
  },
  {
   "cell_type": "code",
   "execution_count": 11,
   "metadata": {},
   "outputs": [
    {
     "name": "stdout",
     "output_type": "stream",
     "text": [
      "x_train sample data:[array([ 70.,  80.,  82., ..., 106., 109.,  82.], dtype=float32), array([151., 150., 147., ..., 193., 183., 184.], dtype=float32)]\n",
      "y_train sample data:[0, 0]\n",
      "x_test sample data:[array([254., 254., 254., ...,  42., 129., 180.], dtype=float32), array([156., 184., 198., ..., 172., 167., 161.], dtype=float32)]\n",
      "y_test sample data:[0, 1]\n"
     ]
    }
   ],
   "source": [
    "num_labels = 7  \n",
    "batch_size = 128  \n",
    "epochs = 50  \n",
    "width, height = 48, 48\n",
    "\n",
    "x_train,y_train,x_test,y_test=[],[],[],[]\n",
    "for index, row in df.iterrows():\n",
    "    \n",
    "    try:\n",
    "        val= row['pixels'].split(\" \")\n",
    "        if 'Training' in row['Usage']:\n",
    "            x_train.append(np.array(val, 'float32'))\n",
    "            y_train.append(row['emotion'])\n",
    "        elif 'PublicTest' in row['Usage']:\n",
    "            x_test.append(np.array(val, 'float32'))\n",
    "            y_test.append(row['emotion'])\n",
    "    except:\n",
    "        print(f\"error occured at index:{index} and row:{row}\")\n",
    "\n",
    "print(f\"x_train sample data:{x_train[0:2]}\")\n",
    "print(f\"y_train sample data:{y_train[0:2]}\")\n",
    "print(f\"x_test sample data:{x_test[0:2]}\")\n",
    "print(f\"y_test sample data:{y_test[0:2]}\")\n",
    "\n",
    "x_train=np.array(x_train,'float32')\n",
    "y_train=np.array(y_train,'float32')\n",
    "x_test=np.array(x_test,'float32')\n",
    "y_test=np.array(y_test,'float32')\n",
    "\n",
    "\n",
    "\n",
    "y_train=np_utils.to_categorical(y_train, num_classes=num_labels)\n",
    "y_test=np_utils.to_categorical(y_test, num_classes=num_labels)\n",
    "\n",
    "x_train /= 255 #normalize inputs between [0, 1]\n",
    "x_test /= 255\n",
    "\n",
    "x_train = x_train.reshape(x_train.shape[0], 48, 48, 1)\n",
    "x_train = x_train.astype('float32')\n",
    "x_test = x_test.reshape(x_test.shape[0], 48, 48, 1)\n",
    "x_test = x_test.astype('float32')\n"
   ]
  },
  {
   "cell_type": "code",
   "execution_count": 13,
   "metadata": {},
   "outputs": [],
   "source": [
    "from keras.preprocessing import image\n",
    "from keras.preprocessing.image import ImageDataGenerator"
   ]
  },
  {
   "cell_type": "code",
   "execution_count": 12,
   "metadata": {},
   "outputs": [],
   "source": [
    "model = Sequential()  \n",
    "  \n",
    "model.add(Conv2D(64, kernel_size=(3, 3), activation='relu', input_shape=(x_train.shape[1:])))  \n",
    "model.add(Conv2D(64,kernel_size= (3, 3), activation='relu'))  \n",
    "model.add(BatchNormalization())  \n",
    "model.add(MaxPooling2D(pool_size=(2,2), strides=(2, 2)))  \n",
    "model.add(Dropout(0.2))  \n",
    "  \n",
    "#2nd convolution layer  \n",
    "model.add(Conv2D(64, (3, 3), activation='tanh'))\n",
    "model.add(Conv2D(64, (3, 3), activation='tanh'))\n",
    "model.add(AveragePooling2D(pool_size=(3,3), strides=(2, 2)))\n",
    "model.add(Dropout(0.2))\n",
    "\n",
    "#3rd convolution layer\n",
    "model.add(Conv2D(128, (3, 3), activation='relu'))\n",
    "model.add(Conv2D(128, (3, 3), activation='relu'))\n",
    "model.add(BatchNormalization())\n",
    "model.add(AveragePooling2D(pool_size=(3,3), strides=(2, 2)))\n",
    "\n",
    "model.add(Flatten())\n",
    "\n",
    "#fully connected neural networks\n",
    "model.add(Dense(1024, activation='relu'))\n",
    "model.add(Dropout(0.2))\n",
    "model.add(Dense(1024, activation='relu'))\n",
    "model.add(Dropout(0.2))\n",
    "\n",
    "model.add(Dense(num_labels, activation='softmax')) \n"
   ]
  },
  {
   "cell_type": "code",
   "execution_count": 13,
   "metadata": {
    "scrolled": false
   },
   "outputs": [
    {
     "name": "stdout",
     "output_type": "stream",
     "text": [
      "Epoch 1/50\n",
      "225/225 [==============================] - 407s 2s/step - loss: 1.6826 - accuracy: 0.3219 - val_loss: 1.7199 - val_accuracy: 0.3137\n",
      "Epoch 2/50\n",
      "225/225 [==============================] - 462s 2s/step - loss: 1.4091 - accuracy: 0.4586 - val_loss: 1.4337 - val_accuracy: 0.4556\n",
      "Epoch 3/50\n",
      "225/225 [==============================] - 1752s 8s/step - loss: 1.2925 - accuracy: 0.5062 - val_loss: 1.3262 - val_accuracy: 0.5007\n",
      "Epoch 4/50\n",
      "225/225 [==============================] - 317s 1s/step - loss: 1.2235 - accuracy: 0.5330 - val_loss: 1.2743 - val_accuracy: 0.5247\n",
      "Epoch 5/50\n",
      "225/225 [==============================] - 309s 1s/step - loss: 1.1607 - accuracy: 0.5574 - val_loss: 1.2781 - val_accuracy: 0.5096\n",
      "Epoch 6/50\n",
      "225/225 [==============================] - 345s 2s/step - loss: 1.1160 - accuracy: 0.5761 - val_loss: 1.5794 - val_accuracy: 0.4486\n",
      "Epoch 7/50\n",
      "225/225 [==============================] - 357s 2s/step - loss: 1.0692 - accuracy: 0.5959 - val_loss: 1.2082 - val_accuracy: 0.5492\n",
      "Epoch 8/50\n",
      "225/225 [==============================] - 355s 2s/step - loss: 1.0248 - accuracy: 0.6113 - val_loss: 1.1945 - val_accuracy: 0.5570\n",
      "Epoch 9/50\n",
      "225/225 [==============================] - 376s 2s/step - loss: 0.9802 - accuracy: 0.6323 - val_loss: 1.1583 - val_accuracy: 0.5704\n",
      "Epoch 10/50\n",
      "225/225 [==============================] - 357s 2s/step - loss: 0.9443 - accuracy: 0.6431 - val_loss: 1.2372 - val_accuracy: 0.5559\n",
      "Epoch 11/50\n",
      "225/225 [==============================] - 339s 2s/step - loss: 0.9145 - accuracy: 0.6541 - val_loss: 1.2441 - val_accuracy: 0.5495\n",
      "Epoch 12/50\n",
      "225/225 [==============================] - 313s 1s/step - loss: 0.8609 - accuracy: 0.6759 - val_loss: 1.3260 - val_accuracy: 0.5428\n",
      "Epoch 13/50\n",
      "225/225 [==============================] - 308s 1s/step - loss: 0.8315 - accuracy: 0.6885 - val_loss: 1.2331 - val_accuracy: 0.5609\n",
      "Epoch 14/50\n",
      "225/225 [==============================] - 308s 1s/step - loss: 0.7922 - accuracy: 0.7012 - val_loss: 1.4142 - val_accuracy: 0.5088\n",
      "Epoch 15/50\n",
      "225/225 [==============================] - 309s 1s/step - loss: 0.7525 - accuracy: 0.7176 - val_loss: 1.3886 - val_accuracy: 0.5642\n",
      "Epoch 16/50\n",
      "225/225 [==============================] - 326s 1s/step - loss: 0.7143 - accuracy: 0.7303 - val_loss: 1.2499 - val_accuracy: 0.5717\n",
      "Epoch 17/50\n",
      "225/225 [==============================] - 350s 2s/step - loss: 0.6814 - accuracy: 0.7410 - val_loss: 1.2941 - val_accuracy: 0.5871\n",
      "Epoch 18/50\n",
      "225/225 [==============================] - 354s 2s/step - loss: 0.6417 - accuracy: 0.7590 - val_loss: 1.3170 - val_accuracy: 0.5857\n",
      "Epoch 19/50\n",
      "225/225 [==============================] - 337s 1s/step - loss: 0.6077 - accuracy: 0.7729 - val_loss: 1.3435 - val_accuracy: 0.5860\n",
      "Epoch 20/50\n",
      "225/225 [==============================] - 355s 2s/step - loss: 0.5726 - accuracy: 0.7865 - val_loss: 1.4177 - val_accuracy: 0.5915\n",
      "Epoch 21/50\n",
      "225/225 [==============================] - 318s 1s/step - loss: 0.5518 - accuracy: 0.7928 - val_loss: 1.4584 - val_accuracy: 0.5729\n",
      "Epoch 22/50\n",
      "225/225 [==============================] - 333s 1s/step - loss: 0.5223 - accuracy: 0.8070 - val_loss: 1.4058 - val_accuracy: 0.5896\n",
      "Epoch 23/50\n",
      "225/225 [==============================] - 327s 1s/step - loss: 0.4936 - accuracy: 0.8162 - val_loss: 1.5619 - val_accuracy: 0.5857\n",
      "Epoch 24/50\n",
      "225/225 [==============================] - 338s 2s/step - loss: 0.4742 - accuracy: 0.8231 - val_loss: 1.4595 - val_accuracy: 0.5762\n",
      "Epoch 25/50\n",
      "225/225 [==============================] - 360s 2s/step - loss: 0.4476 - accuracy: 0.8355 - val_loss: 1.5758 - val_accuracy: 0.5940\n",
      "Epoch 26/50\n",
      "225/225 [==============================] - 342s 2s/step - loss: 0.4198 - accuracy: 0.8432 - val_loss: 1.5789 - val_accuracy: 0.5907\n",
      "Epoch 27/50\n",
      "225/225 [==============================] - 342s 2s/step - loss: 0.4101 - accuracy: 0.8480 - val_loss: 1.6672 - val_accuracy: 0.5804\n",
      "Epoch 28/50\n",
      "225/225 [==============================] - 347s 2s/step - loss: 0.3865 - accuracy: 0.8545 - val_loss: 1.6377 - val_accuracy: 0.5848\n",
      "Epoch 29/50\n",
      "225/225 [==============================] - 328s 1s/step - loss: 0.3649 - accuracy: 0.8651 - val_loss: 1.7538 - val_accuracy: 0.5745\n",
      "Epoch 30/50\n",
      "225/225 [==============================] - 333s 1s/step - loss: 0.3582 - accuracy: 0.8648 - val_loss: 1.7142 - val_accuracy: 0.5837\n",
      "Epoch 31/50\n",
      "225/225 [==============================] - 360s 2s/step - loss: 0.3357 - accuracy: 0.8775 - val_loss: 1.6988 - val_accuracy: 0.5773\n",
      "Epoch 32/50\n",
      "225/225 [==============================] - 344s 2s/step - loss: 0.3228 - accuracy: 0.8817 - val_loss: 1.7646 - val_accuracy: 0.5893\n",
      "Epoch 33/50\n",
      "225/225 [==============================] - 342s 2s/step - loss: 0.3067 - accuracy: 0.8874 - val_loss: 1.8535 - val_accuracy: 0.5821\n",
      "Epoch 34/50\n",
      "225/225 [==============================] - 340s 2s/step - loss: 0.3007 - accuracy: 0.8909 - val_loss: 1.9251 - val_accuracy: 0.5929\n",
      "Epoch 35/50\n",
      "225/225 [==============================] - 323s 1s/step - loss: 0.2856 - accuracy: 0.8968 - val_loss: 1.8775 - val_accuracy: 0.5874\n",
      "Epoch 36/50\n",
      "225/225 [==============================] - 361s 2s/step - loss: 0.2719 - accuracy: 0.8996 - val_loss: 1.9477 - val_accuracy: 0.5874\n",
      "Epoch 37/50\n",
      "225/225 [==============================] - 321s 1s/step - loss: 0.2729 - accuracy: 0.9002 - val_loss: 1.9680 - val_accuracy: 0.5815\n",
      "Epoch 38/50\n",
      "225/225 [==============================] - 343s 2s/step - loss: 0.2626 - accuracy: 0.9039 - val_loss: 1.9956 - val_accuracy: 0.5790\n",
      "Epoch 39/50\n",
      "225/225 [==============================] - 424s 2s/step - loss: 0.2522 - accuracy: 0.9080 - val_loss: 1.9536 - val_accuracy: 0.5957\n",
      "Epoch 40/50\n",
      "225/225 [==============================] - 431s 2s/step - loss: 0.2448 - accuracy: 0.9106 - val_loss: 2.0319 - val_accuracy: 0.5924\n",
      "Epoch 41/50\n",
      "225/225 [==============================] - 446s 2s/step - loss: 0.2333 - accuracy: 0.9150 - val_loss: 2.1245 - val_accuracy: 0.5954\n",
      "Epoch 42/50\n",
      "225/225 [==============================] - 436s 2s/step - loss: 0.2360 - accuracy: 0.9147 - val_loss: 1.9513 - val_accuracy: 0.5957\n",
      "Epoch 43/50\n",
      "225/225 [==============================] - 432s 2s/step - loss: 0.2224 - accuracy: 0.9185 - val_loss: 2.2335 - val_accuracy: 0.5904\n",
      "Epoch 44/50\n",
      "225/225 [==============================] - 438s 2s/step - loss: 0.2273 - accuracy: 0.9154 - val_loss: 2.0892 - val_accuracy: 0.5848\n",
      "Epoch 45/50\n",
      "225/225 [==============================] - 398s 2s/step - loss: 0.2029 - accuracy: 0.9266 - val_loss: 2.1286 - val_accuracy: 0.5868\n",
      "Epoch 46/50\n",
      "225/225 [==============================] - 393s 2s/step - loss: 0.2004 - accuracy: 0.9269 - val_loss: 2.2045 - val_accuracy: 0.5896\n",
      "Epoch 47/50\n",
      "225/225 [==============================] - 393s 2s/step - loss: 0.1989 - accuracy: 0.9298 - val_loss: 2.0679 - val_accuracy: 0.5971\n",
      "Epoch 48/50\n",
      "225/225 [==============================] - 391s 2s/step - loss: 0.2006 - accuracy: 0.9265 - val_loss: 2.1107 - val_accuracy: 0.5865\n",
      "Epoch 49/50\n",
      "225/225 [==============================] - 393s 2s/step - loss: 0.1975 - accuracy: 0.9275 - val_loss: 2.2299 - val_accuracy: 0.5954\n",
      "Epoch 50/50\n",
      "225/225 [==============================] - 392s 2s/step - loss: 0.1889 - accuracy: 0.9326 - val_loss: 2.2535 - val_accuracy: 0.5885\n"
     ]
    },
    {
     "data": {
      "text/plain": [
       "<tensorflow.python.keras.callbacks.History at 0x19a22fa21c8>"
      ]
     },
     "execution_count": 13,
     "metadata": {},
     "output_type": "execute_result"
    }
   ],
   "source": [
    "model.compile(loss=categorical_crossentropy, optimizer=Adam(),metrics=['accuracy'])  \n",
    "  \n",
    "#Training the model  \n",
    "model.fit(x_train, y_train,batch_size=batch_size,epochs=epochs,verbose=1,validation_data=(x_test, y_test),  \n",
    "          shuffle=True) "
   ]
  },
  {
   "cell_type": "code",
   "execution_count": 14,
   "metadata": {},
   "outputs": [],
   "source": [
    "fer_json = model.to_json()  \n",
    "with open(\"fer.json\", \"w\") as json_file:  \n",
    "    json_file.write(fer_json)  \n",
    "model.save_weights(\"fer.h5\") "
   ]
  },
  {
   "cell_type": "code",
   "execution_count": 16,
   "metadata": {},
   "outputs": [
    {
     "name": "stdout",
     "output_type": "stream",
     "text": [
      "Train loss: 0.1204385757446289\n",
      "Train accuracy: 95.86541056632996\n",
      "Test loss: 2.253530263900757\n",
      "Test accuracy: 58.846473693847656\n"
     ]
    }
   ],
   "source": [
    "train_score = model.evaluate(x_train, y_train, verbose=0)\n",
    "print('Train loss:', train_score[0])\n",
    "print('Train accuracy:', 100*train_score[1])\n",
    " \n",
    "test_score = model.evaluate(x_test, y_test, verbose=0)\n",
    "print('Test loss:', test_score[0])\n",
    "print('Test accuracy:', 100*test_score[1])"
   ]
  },
  {
   "cell_type": "code",
   "execution_count": 17,
   "metadata": {},
   "outputs": [],
   "source": [
    "monitor_testset_results = True\n",
    "if monitor_testset_results == True:\n",
    "    #make predictions for test set\n",
    "    predictions = model.predict(x_test)\n",
    "    index = 0\n",
    "    for i in predictions:\n",
    "        if index < 30 and index >= 20:\n",
    "            #print(i) #predicted scores\n",
    "            #print(y_test[index]) #actual scores\n",
    "            testing_img = np.array(x_test[index], 'float32')\n",
    "            testing_img = testing_img.reshape([48, 48]);\n",
    "\n",
    "            plt.gray()\n",
    "            plt.imshow(testing_img)\n",
    "            plt.show()\n",
    "\n",
    "            print(i)\n",
    "\n",
    "            emotion_analysis(i)\n",
    "            print(\"----------------------------------------------\")\n",
    "            index = index + 1"
   ]
  },
  {
   "cell_type": "code",
   "execution_count": 19,
   "metadata": {},
   "outputs": [
    {
     "data": {
      "text/plain": [
       "array([[221,   9,  30,  47,  67,  18,  75],\n",
       "       [ 17,  24,   2,   4,   5,   2,   2],\n",
       "       [ 54,   4, 188,  44,  80,  50,  76],\n",
       "       [ 22,   2,  19, 744,  28,  19,  61],\n",
       "       [ 63,   4,  85,  75, 281,  15, 130],\n",
       "       [  8,   1,  27,  29,  12, 320,  18],\n",
       "       [ 52,   1,  38,  92,  73,  17, 334]], dtype=int64)"
      ]
     },
     "execution_count": 19,
     "metadata": {},
     "output_type": "execute_result"
    }
   ],
   "source": [
    "#Confusion Matrix.\n",
    "\n",
    "from sklearn.metrics import classification_report, confusion_matrix\n",
    " \n",
    "pred_list = []; actual_list = []\n",
    " \n",
    "for i in predictions:\n",
    " \n",
    "  pred_list.append(np.argmax(i))\n",
    " \n",
    "for i in y_test:\n",
    " \n",
    "  actual_list.append(np.argmax(i))\n",
    " \n",
    "confusion_matrix(actual_list, pred_list)"
   ]
  },
  {
   "cell_type": "code",
   "execution_count": 20,
   "metadata": {},
   "outputs": [],
   "source": [
    "def emotion_analysis(emotions):\n",
    "    objects = ('angry', 'disgust', 'fear', 'happy', 'sad', 'surprise', 'neutral')\n",
    "    y_pos = np.arange(len(objects))\n",
    "    \n",
    "    plt.bar(y_pos, emotions, align='center', alpha=0.5)\n",
    "    plt.xticks(y_pos, objects)\n",
    "    plt.ylabel('percentage')\n",
    "    plt.title('emotion')\n",
    "    \n",
    "    plt.show()"
   ]
  },
  {
   "cell_type": "code",
   "execution_count": 24,
   "metadata": {},
   "outputs": [],
   "source": [
    "import cv2\n",
    "import os\n",
    "            \n",
    "def facecrop(image):  \n",
    "    facedata = \"haarcascade_frontalface_alt.xml\"\n",
    "    cascade = cv2.CascadeClassifier(facedata)\n",
    "\n",
    "    img = cv2.imread(image)\n",
    "\n",
    "    try:\n",
    "    \n",
    "        minisize = (img.shape[1],img.shape[0])\n",
    "        miniframe = cv2.resize(img, minisize)\n",
    "\n",
    "        faces = cascade.detectMultiScale(miniframe)\n",
    "\n",
    "        for f in faces:\n",
    "            x, y, w, h = [ v for v in f ]\n",
    "            cv2.rectangle(img, (x,y), (x+w,y+h), (0,255,0), 2)\n",
    "\n",
    "            sub_face = img[y:y+h, x:x+w]\n",
    "\n",
    "            f_name = image.split('/')\n",
    "            f_name = f_name[-1]\n",
    "            \n",
    "            cv2.imwrite(\"photo.jpg\" + f_name, sub_face)\n",
    "            #print (\"Writing: \" + image)\n",
    "\n",
    "    except:\n",
    "        pass\n",
    "\n",
    "    #cv2.imshow(image, img)\n",
    "\n",
    "\n",
    "if __name__ == '__main__':\n",
    "        facecrop(file)"
   ]
  },
  {
   "cell_type": "code",
   "execution_count": 27,
   "metadata": {},
   "outputs": [
    {
     "data": {
      "image/png": "[encoded data removed]",
      "text/plain": [
       "<Figure size 432x288 with 1 Axes>"
      ]
     },
     "metadata": {
      "needs_background": "light"
     },
     "output_type": "display_data"
    },
    {
     "data": {
      "image/png": "[encoded data removed]",
      "text/plain": [
       "<Figure size 432x288 with 1 Axes>"
      ]
     },
     "metadata": {
      "needs_background": "light"
     },
     "output_type": "display_data"
    }
   ],
   "source": [
    "#Testing a file.\n",
    "\n",
    "from keras.preprocessing import image\n",
    "from keras.preprocessing.image import ImageDataGenerator\n",
    "\n",
    "import numpy as np\n",
    "import matplotlib.pyplot as plt\n",
    "\n",
    "\n",
    "file = 'custom.jpg'\n",
    "true_image = image.load_img(file)\n",
    "img = image.load_img(file, grayscale=True, target_size=(48, 48))\n",
    "\n",
    "x = image.img_to_array(img)\n",
    "x = np.expand_dims(x, axis = 0)\n",
    "\n",
    "x /= 255\n",
    "\n",
    "custom = model.predict(x)\n",
    "emotion_analysis(custom[0])\n",
    "\n",
    "x = np.array(x, 'float32')\n",
    "x = x.reshape([48, 48]);\n",
    "\n",
    "plt.gray()\n",
    "plt.imshow(true_image)\n",
    "plt.show()"
   ]
  },
  {
   "cell_type": "code",
   "execution_count": null,
   "metadata": {},
   "outputs": [],
   "source": [
    "import os\n",
    "import cv2\n",
    "import numpy as np\n",
    "from keras.models import model_from_json\n",
    "from keras.preprocessing import image\n",
    "\n",
    "#load model\n",
    "model = model_from_json(open(\"fer.json\", \"r\").read())\n",
    "#load weights\n",
    "model.load_weights('fer.h5')\n",
    "\n",
    "\n",
    "face_haar_cascade = cv2.CascadeClassifier('haarcascade_frontalface_default.xml')\n",
    "\n",
    "\n",
    "cap=cv2.VideoCapture(0)\n",
    "\n",
    "while True:\n",
    "    ret,test_img=cap.read()# captures frame and returns boolean value and captured image\n",
    "    if not ret:\n",
    "        continue\n",
    "    gray_img= cv2.cvtColor(test_img, cv2.COLOR_BGR2GRAY)\n",
    "\n",
    "    faces_detected = face_haar_cascade.detectMultiScale(gray_img, 1.32, 5)\n",
    "\n",
    "\n",
    "    for (x,y,w,h) in faces_detected:\n",
    "        cv2.rectangle(test_img,(x,y),(x+w,y+h),(255,0,0),thickness=7)\n",
    "        roi_gray=gray_img[y:y+w,x:x+h]#cropping region of interest i.e. face area from  image\n",
    "        roi_gray=cv2.resize(roi_gray,(48,48))\n",
    "        img_pixels = image.img_to_array(roi_gray)\n",
    "        img_pixels = np.expand_dims(img_pixels, axis = 0)\n",
    "        img_pixels /= 255\n",
    "\n",
    "        predictions = model.predict(img_pixels)\n",
    "\n",
    "        #find max indexed array\n",
    "        max_index = np.argmax(predictions[0])\n",
    "\n",
    "        emotions = ('angry', 'disgust', 'fear', 'happy', 'sad', 'surprise', 'neutral')\n",
    "        predicted_emotion = emotions[max_index]\n",
    "\n",
    "        cv2.putText(test_img, predicted_emotion, (int(x), int(y)), cv2.FONT_HERSHEY_SIMPLEX, 1, (0,0,255), 2)\n",
    "\n",
    "    resized_img = cv2.resize(test_img, (1000, 700))\n",
    "    cv2.imshow('Facial emotion analysis ',resized_img)\n",
    "\n",
    "\n",
    "\n",
    "    if cv2.waitKey(10) == ord('q'):#wait until 'q' key is pressed\n",
    "        break\n",
    "\n",
    "cap.release()\n",
    "cv2.destroyAllWindows"
   ]
  }
 ],
 "metadata": {
  "kernelspec": {
   "display_name": "Python 3",
   "language": "python",
   "name": "python3"
  },
  "language_info": {
   "codemirror_mode": {
    "name": "ipython",
    "version": 3
   },
   "file_extension": ".py",
   "mimetype": "text/x-python",
   "name": "python",
   "nbconvert_exporter": "python",
   "pygments_lexer": "ipython3",
   "version": "3.7.4"
  },
  "varInspector": {
   "cols": {
    "lenName": 16,
    "lenType": 16,
    "lenVar": 40
   },
   "kernels_config": {
    "python": {
     "delete_cmd_postfix": "",
     "delete_cmd_prefix": "del ",
     "library": "var_list.py",
     "varRefreshCmd": "print(var_dic_list())"
    },
    "r": {
     "delete_cmd_postfix": ") ",
     "delete_cmd_prefix": "rm(",
     "library": "var_list.r",
     "varRefreshCmd": "cat(var_dic_list()) "
    }
   },
   "types_to_exclude": [
    "module",
    "function",
    "builtin_function_or_method",
    "instance",
    "_Feature"
   ],
   "window_display": false
  }
 },
 "nbformat": 4,
 "nbformat_minor": 2
}
